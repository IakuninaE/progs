{
 "cells": [
  {
   "cell_type": "markdown",
   "id": "404e76b3",
   "metadata": {},
   "source": [
    "\\begin{equation*}\n",
    "-u'' + 9u + 2x^{3}sin(2u) = 1 \\\\\n",
    "u(0) = u(1) = 0\n",
    "\\end{equation*}"
   ]
  },
  {
   "cell_type": "code",
   "execution_count": 1,
   "id": "e2a33a18",
   "metadata": {},
   "outputs": [],
   "source": [
    "import numpy as np\n",
    "import matplotlib.pyplot as plt"
   ]
  },
  {
   "cell_type": "markdown",
   "id": "d0c355b1",
   "metadata": {},
   "source": [
    "Базисные функции $e_j(x)$"
   ]
  },
  {
   "cell_type": "code",
   "execution_count": 2,
   "id": "a9eb51d3",
   "metadata": {},
   "outputs": [],
   "source": [
    "def e(x):\n",
    "    if x >= -1 and x <= 0:\n",
    "        return 1 + x\n",
    "    elif x >= 0 and x <= 1:\n",
    "        return 1 - x\n",
    "    else:\n",
    "        return 0\n",
    "    \n",
    "def e_j(x, x_j, h):\n",
    "    return e((x - x_j) / h)"
   ]
  },
  {
   "cell_type": "markdown",
   "id": "1e577685",
   "metadata": {},
   "source": [
    "Функция для определения $\\tilde{Ф}(c)$"
   ]
  },
  {
   "cell_type": "code",
   "execution_count": 3,
   "id": "4b66b97f",
   "metadata": {},
   "outputs": [],
   "source": [
    "def Phi(c, N, h):\n",
    "    s_1 = c[1:-1] ** 2 - c[1:-1] * (c[:-2] + c[2:])\n",
    "    s_2 = c[1:-1] ** 2 + 1/2 * c[1:-1] * (c[:-2] + c[2:])\n",
    "    s_3 = np.arange(1, N + 1) ** 3 * np.cos(2 * c[1:-1])\n",
    "    Phi = 1/h * np.sum(s_1) + 3 * h * np.sum(s_2) + 1/4 - h/2 - h ** 4 * np.sum(s_3) - h * np.sum(c) \n",
    "    return Phi"
   ]
  },
  {
   "cell_type": "markdown",
   "id": "0eee739f",
   "metadata": {},
   "source": [
    "Функция для определения $c^{(k+1)} = c^{(k)} - w * h * grad\\tilde{Ф}(c^{(k)})$"
   ]
  },
  {
   "cell_type": "code",
   "execution_count": 4,
   "id": "c2bd14a8",
   "metadata": {},
   "outputs": [],
   "source": [
    "def c_k(c, k, N, h, w):\n",
    "    c_k = np.zeros(N + 2)\n",
    "    if k - 1 == 0:\n",
    "        s_1 = 2 * c[1:-1] - c[:-2] - c[2:]\n",
    "        s_2 = 2 * c[1:-1] + 1/2 * (c[:-2] + c[2:])\n",
    "        c_k[1:-1] = c[1:-1] - w * (s_1 + 3 * h**2 * s_2 + 2 * h**5 * np.arange(1, N + 1)**3 * np.sin(2 * c[1:-1]) - h ** 2)\n",
    "    else:\n",
    "        s_1 = 2 * c[k - 1, 1:-1] - c[k - 1, :-2] - c[k - 1, 2:]\n",
    "        s_2 = 2 * c[k - 1, 1:-1] + 1/2 * (c[k - 1, :-2] + c[k - 1, 2:])\n",
    "        c_k[1:-1] = c[k-1, 1:-1] - w * (s_1 + 3 * h**2 * s_2 + 2 * h**5 * np.arange(1, N+1)**3 * np.sin(2 * c[k-1, 1:-1]) - h**2)\n",
    "    return c_k"
   ]
  },
  {
   "cell_type": "markdown",
   "id": "b6b80ea9",
   "metadata": {},
   "source": [
    "Функция минимизации"
   ]
  },
  {
   "cell_type": "code",
   "execution_count": 5,
   "id": "f5c24b1d",
   "metadata": {},
   "outputs": [],
   "source": [
    "def minimize(c, k, N, h, w_min):\n",
    "    w = 1\n",
    "    if k == 1:\n",
    "        c = np.vstack([c, c_k(c, k, N, h, w)])\n",
    "    else:\n",
    "        c = np.vstack([c, c_k(c[k - 1], k, N, h, w)])\n",
    "        \n",
    "    while Phi(c[k], N, h) > Phi(c[k - 1], N, h) and w > w_min:\n",
    "        w /= 2\n",
    "        c[k] = c_k(c[k - 1], k, N, h, w)\n",
    "    if w <= w_min:\n",
    "        return c, k - 1\n",
    "    else:\n",
    "        minimize(c, k + 1, N, h, w_min)"
   ]
  },
  {
   "cell_type": "markdown",
   "id": "bfdefa63",
   "metadata": {},
   "source": [
    "## Решение при $N = 9$"
   ]
  },
  {
   "cell_type": "code",
   "execution_count": 6,
   "id": "d0bbe77f",
   "metadata": {},
   "outputs": [
    {
     "name": "stdout",
     "output_type": "stream",
     "text": [
      "Порядок приближения = 0\n"
     ]
    }
   ],
   "source": [
    "N = 9\n",
    "h = 1 / (N + 1)\n",
    "x_j = np.arange(0, 1 + h, h)\n",
    "c = np.zeros(N + 2)\n",
    "c[1:N + 1] = 1 - (np.exp(x_j[1:N+1]) + np.exp(1 - x_j[1:N+1])) / (1 + np.exp(1))\n",
    "w_min = 0.00001\n",
    "\n",
    "c, k = minimize(c, 1, N, h, w_min)\n",
    "print('Порядок приближения =', k)"
   ]
  },
  {
   "cell_type": "markdown",
   "id": "b4e91b35",
   "metadata": {},
   "source": [
    "Получили минимум функционала $\\tilde{Ф}(c^{(k)})$ при $c^{(0)}$"
   ]
  },
  {
   "cell_type": "code",
   "execution_count": 7,
   "id": "80a9f57c",
   "metadata": {},
   "outputs": [
    {
     "data": {
      "text/plain": [
       "Text(0, 0.5, 'u(x)')"
      ]
     },
     "execution_count": 7,
     "metadata": {},
     "output_type": "execute_result"
    },
    {
     "data": {
      "image/png": "[encoded data removed]",
      "text/plain": [
       "<Figure size 432x288 with 1 Axes>"
      ]
     },
     "metadata": {
      "needs_background": "light"
     },
     "output_type": "display_data"
    }
   ],
   "source": [
    "x = np.linspace(0, 1, len(x_j))\n",
    "u = np.zeros(len(x))\n",
    "v_ej = np.vectorize(e_j)\n",
    "for i in range(len(u)):\n",
    "    u[i] = np.sum(c[k, 1:-1] * v_ej(x[i], x_j[1:-1], h))\n",
    "fig, ax = plt.subplots()\n",
    "\n",
    "ax.plot(x, u, color = 'green')\n",
    "ax.set_ylim(0, 0.12)\n",
    "ax.set_xlabel('x')\n",
    "ax.set_ylabel('u(x)')"
   ]
  },
  {
   "cell_type": "markdown",
   "id": "5668de81",
   "metadata": {},
   "source": [
    "## Решение при $N = 99$"
   ]
  },
  {
   "cell_type": "code",
   "execution_count": 8,
   "id": "36ae714e",
   "metadata": {},
   "outputs": [
    {
     "name": "stdout",
     "output_type": "stream",
     "text": [
      "Порядок приближения = 0\n"
     ]
    }
   ],
   "source": [
    "N = 99\n",
    "h = 1 / (N + 1)\n",
    "x_j = np.arange(0, 1 + h, h)\n",
    "c = np.zeros(N + 2)\n",
    "c[1:N + 1] = 1 - (np.exp(x_j[1:N+1]) + np.exp(1 - x_j[1:N+1])) / (1 + np.exp(1))\n",
    "w_min = 0.00001\n",
    "\n",
    "c, k = minimize(c, 1, N, h, w_min)\n",
    "print('Порядок приближения =', k)"
   ]
  },
  {
   "cell_type": "markdown",
   "id": "684a831c",
   "metadata": {},
   "source": [
    "Получили минимум функционала $\\tilde{Ф}(c^{(k)})$ при $c^{(0)}$"
   ]
  },
  {
   "cell_type": "code",
   "execution_count": 9,
   "id": "e5411056",
   "metadata": {},
   "outputs": [
    {
     "data": {
      "text/plain": [
       "Text(0, 0.5, 'u(x)')"
      ]
     },
     "execution_count": 9,
     "metadata": {},
     "output_type": "execute_result"
    },
    {
     "data": {
      "image/png": "[encoded data removed]",
      "text/plain": [
       "<Figure size 432x288 with 1 Axes>"
      ]
     },
     "metadata": {
      "needs_background": "light"
     },
     "output_type": "display_data"
    }
   ],
   "source": [
    "x = np.linspace(0, 1, len(x_j))\n",
    "u = np.zeros(len(x))\n",
    "v_ej = np.vectorize(e_j)\n",
    "for i in range(len(u)):\n",
    "    u[i] = np.sum(c[k, 1:-1] * v_ej(x[i], x_j[1:-1], h))\n",
    "fig, ax = plt.subplots()\n",
    "\n",
    "ax.plot(x, u, color = 'green')\n",
    "ax.set_ylim(0, 0.12)\n",
    "ax.set_xlabel('x')\n",
    "ax.set_ylabel('u(x)')"
   ]
  }
 ],
 "metadata": {
  "kernelspec": {
   "display_name": "Python 3 (ipykernel)",
   "language": "python",
   "name": "python3"
  },
  "language_info": {
   "codemirror_mode": {
    "name": "ipython",
    "version": 3
   },
   "file_extension": ".py",
   "mimetype": "text/x-python",
   "name": "python",
   "nbconvert_exporter": "python",
   "pygments_lexer": "ipython3",
   "version": "3.9.7"
  }
 },
 "nbformat": 4,
 "nbformat_minor": 5
}
